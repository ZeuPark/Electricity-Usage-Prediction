{
 "cells": [
  {
   "cell_type": "code",
   "execution_count": 1,
   "metadata": {},
   "outputs": [],
   "source": [
    "import pandas as pd\n",
    "import sys  \n",
    "import numpy as np  \n",
    "import matplotlib.pyplot as plt\n",
    "import seaborn as sns   "
   ]
  },
  {
   "cell_type": "code",
   "execution_count": 38,
   "metadata": {},
   "outputs": [],
   "source": [
    "plt.rcParams['font.family'] = 'AppleGothic'\n",
    "plt.rcParams['axes.unicode_minus'] = False"
   ]
  },
  {
   "cell_type": "code",
   "execution_count": 3,
   "metadata": {},
   "outputs": [
    {
     "data": {
      "text/html": [
       "<div>\n",
       "<style scoped>\n",
       "    .dataframe tbody tr th:only-of-type {\n",
       "        vertical-align: middle;\n",
       "    }\n",
       "\n",
       "    .dataframe tbody tr th {\n",
       "        vertical-align: top;\n",
       "    }\n",
       "\n",
       "    .dataframe thead th {\n",
       "        text-align: right;\n",
       "    }\n",
       "</style>\n",
       "<table border=\"1\" class=\"dataframe\">\n",
       "  <thead>\n",
       "    <tr style=\"text-align: right;\">\n",
       "      <th></th>\n",
       "      <th>num_date_time</th>\n",
       "      <th>건물번호</th>\n",
       "      <th>일시</th>\n",
       "      <th>기온(°C)</th>\n",
       "      <th>강수량(mm)</th>\n",
       "      <th>풍속(m/s)</th>\n",
       "      <th>습도(%)</th>\n",
       "      <th>일조(hr)</th>\n",
       "      <th>일사(MJ/m2)</th>\n",
       "      <th>전력소비량(kWh)</th>\n",
       "    </tr>\n",
       "  </thead>\n",
       "  <tbody>\n",
       "    <tr>\n",
       "      <th>0</th>\n",
       "      <td>1_20240601 00</td>\n",
       "      <td>1</td>\n",
       "      <td>20240601 00</td>\n",
       "      <td>18.3</td>\n",
       "      <td>0.0</td>\n",
       "      <td>2.6</td>\n",
       "      <td>82.0</td>\n",
       "      <td>0.0</td>\n",
       "      <td>0.0</td>\n",
       "      <td>5794.80</td>\n",
       "    </tr>\n",
       "    <tr>\n",
       "      <th>1</th>\n",
       "      <td>1_20240601 01</td>\n",
       "      <td>1</td>\n",
       "      <td>20240601 01</td>\n",
       "      <td>18.3</td>\n",
       "      <td>0.0</td>\n",
       "      <td>2.7</td>\n",
       "      <td>82.0</td>\n",
       "      <td>0.0</td>\n",
       "      <td>0.0</td>\n",
       "      <td>5591.85</td>\n",
       "    </tr>\n",
       "    <tr>\n",
       "      <th>2</th>\n",
       "      <td>1_20240601 02</td>\n",
       "      <td>1</td>\n",
       "      <td>20240601 02</td>\n",
       "      <td>18.1</td>\n",
       "      <td>0.0</td>\n",
       "      <td>2.6</td>\n",
       "      <td>80.0</td>\n",
       "      <td>0.0</td>\n",
       "      <td>0.0</td>\n",
       "      <td>5338.17</td>\n",
       "    </tr>\n",
       "    <tr>\n",
       "      <th>3</th>\n",
       "      <td>1_20240601 03</td>\n",
       "      <td>1</td>\n",
       "      <td>20240601 03</td>\n",
       "      <td>18.0</td>\n",
       "      <td>0.0</td>\n",
       "      <td>2.6</td>\n",
       "      <td>81.0</td>\n",
       "      <td>0.0</td>\n",
       "      <td>0.0</td>\n",
       "      <td>4554.42</td>\n",
       "    </tr>\n",
       "    <tr>\n",
       "      <th>4</th>\n",
       "      <td>1_20240601 04</td>\n",
       "      <td>1</td>\n",
       "      <td>20240601 04</td>\n",
       "      <td>17.8</td>\n",
       "      <td>0.0</td>\n",
       "      <td>1.3</td>\n",
       "      <td>81.0</td>\n",
       "      <td>0.0</td>\n",
       "      <td>0.0</td>\n",
       "      <td>3602.25</td>\n",
       "    </tr>\n",
       "  </tbody>\n",
       "</table>\n",
       "</div>"
      ],
      "text/plain": [
       "   num_date_time  건물번호           일시  기온(°C)  강수량(mm)  풍속(m/s)  습도(%)  일조(hr)  \\\n",
       "0  1_20240601 00     1  20240601 00    18.3      0.0      2.6   82.0     0.0   \n",
       "1  1_20240601 01     1  20240601 01    18.3      0.0      2.7   82.0     0.0   \n",
       "2  1_20240601 02     1  20240601 02    18.1      0.0      2.6   80.0     0.0   \n",
       "3  1_20240601 03     1  20240601 03    18.0      0.0      2.6   81.0     0.0   \n",
       "4  1_20240601 04     1  20240601 04    17.8      0.0      1.3   81.0     0.0   \n",
       "\n",
       "   일사(MJ/m2)  전력소비량(kWh)  \n",
       "0        0.0     5794.80  \n",
       "1        0.0     5591.85  \n",
       "2        0.0     5338.17  \n",
       "3        0.0     4554.42  \n",
       "4        0.0     3602.25  "
      ]
     },
     "execution_count": 3,
     "metadata": {},
     "output_type": "execute_result"
    }
   ],
   "source": [
    "df = pd.read_csv('/Users/Zeu/Downloads/dacon_electricity_usage_pred/data/train.csv')\n",
    "\n",
    "\n",
    "df.head()\n"
   ]
  },
  {
   "cell_type": "code",
   "execution_count": 8,
   "metadata": {},
   "outputs": [
    {
     "name": "stdout",
     "output_type": "stream",
     "text": [
      "<class 'pandas.core.frame.DataFrame'>\n",
      "RangeIndex: 204000 entries, 0 to 203999\n",
      "Data columns (total 10 columns):\n",
      " #   Column         Non-Null Count   Dtype  \n",
      "---  ------         --------------   -----  \n",
      " 0   num_date_time  204000 non-null  object \n",
      " 1   건물번호           204000 non-null  int64  \n",
      " 2   일시             204000 non-null  object \n",
      " 3   기온(°C)         204000 non-null  float64\n",
      " 4   강수량(mm)        204000 non-null  float64\n",
      " 5   풍속(m/s)        204000 non-null  float64\n",
      " 6   습도(%)          204000 non-null  float64\n",
      " 7   일조(hr)         204000 non-null  float64\n",
      " 8   일사(MJ/m2)      204000 non-null  float64\n",
      " 9   전력소비량(kWh)     204000 non-null  float64\n",
      "dtypes: float64(7), int64(1), object(2)\n",
      "memory usage: 15.6+ MB\n"
     ]
    }
   ],
   "source": [
    "df.info()\n"
   ]
  },
  {
   "cell_type": "code",
   "execution_count": 16,
   "metadata": {},
   "outputs": [
    {
     "data": {
      "text/html": [
       "<div>\n",
       "<style scoped>\n",
       "    .dataframe tbody tr th:only-of-type {\n",
       "        vertical-align: middle;\n",
       "    }\n",
       "\n",
       "    .dataframe tbody tr th {\n",
       "        vertical-align: top;\n",
       "    }\n",
       "\n",
       "    .dataframe thead th {\n",
       "        text-align: right;\n",
       "    }\n",
       "</style>\n",
       "<table border=\"1\" class=\"dataframe\">\n",
       "  <thead>\n",
       "    <tr style=\"text-align: right;\">\n",
       "      <th></th>\n",
       "      <th>건물번호</th>\n",
       "      <th>건물유형</th>\n",
       "      <th>연면적(m2)</th>\n",
       "      <th>냉방면적(m2)</th>\n",
       "      <th>태양광용량(kW)</th>\n",
       "      <th>ESS저장용량(kWh)</th>\n",
       "      <th>PCS용량(kW)</th>\n",
       "    </tr>\n",
       "  </thead>\n",
       "  <tbody>\n",
       "    <tr>\n",
       "      <th>0</th>\n",
       "      <td>1</td>\n",
       "      <td>호텔</td>\n",
       "      <td>82912.71</td>\n",
       "      <td>77586.00</td>\n",
       "      <td>-</td>\n",
       "      <td>-</td>\n",
       "      <td>-</td>\n",
       "    </tr>\n",
       "    <tr>\n",
       "      <th>1</th>\n",
       "      <td>2</td>\n",
       "      <td>상용</td>\n",
       "      <td>40658.90</td>\n",
       "      <td>30392.82</td>\n",
       "      <td>-</td>\n",
       "      <td>-</td>\n",
       "      <td>-</td>\n",
       "    </tr>\n",
       "    <tr>\n",
       "      <th>2</th>\n",
       "      <td>3</td>\n",
       "      <td>병원</td>\n",
       "      <td>560431.00</td>\n",
       "      <td>418992.00</td>\n",
       "      <td>278.58</td>\n",
       "      <td>-</td>\n",
       "      <td>-</td>\n",
       "    </tr>\n",
       "    <tr>\n",
       "      <th>3</th>\n",
       "      <td>4</td>\n",
       "      <td>호텔</td>\n",
       "      <td>41813.29</td>\n",
       "      <td>23715.71</td>\n",
       "      <td>-</td>\n",
       "      <td>-</td>\n",
       "      <td>-</td>\n",
       "    </tr>\n",
       "    <tr>\n",
       "      <th>4</th>\n",
       "      <td>5</td>\n",
       "      <td>학교</td>\n",
       "      <td>403749.39</td>\n",
       "      <td>248507.00</td>\n",
       "      <td>1983.05</td>\n",
       "      <td>1025</td>\n",
       "      <td>250</td>\n",
       "    </tr>\n",
       "  </tbody>\n",
       "</table>\n",
       "</div>"
      ],
      "text/plain": [
       "   건물번호 건물유형    연면적(m2)   냉방면적(m2) 태양광용량(kW) ESS저장용량(kWh) PCS용량(kW)\n",
       "0     1   호텔   82912.71   77586.00         -            -         -\n",
       "1     2   상용   40658.90   30392.82         -            -         -\n",
       "2     3   병원  560431.00  418992.00    278.58            -         -\n",
       "3     4   호텔   41813.29   23715.71         -            -         -\n",
       "4     5   학교  403749.39  248507.00   1983.05         1025       250"
      ]
     },
     "execution_count": 16,
     "metadata": {},
     "output_type": "execute_result"
    }
   ],
   "source": [
    "building = pd.read_csv('/Users/Zeu/Downloads/dacon_electricity_usage_pred/data/building_info.csv')\n",
    "\n",
    "\n",
    "\n",
    "building.head()\n"
   ]
  },
  {
   "cell_type": "code",
   "execution_count": null,
   "metadata": {},
   "outputs": [],
   "source": [
    "# '-' 처리 및 숫자형 변환 + 결측치 채우기\n",
    "# 0으로 바꾼 이유는 태양광, ESS, PCS 용량이 없는 건물도 있을 수 있기 때문\n",
    "# 중앙값이나 평균값으로 채우는 방법도 있지만, 이 경우에는 0으로 처리\n",
    "for col in ['태양광용량(kW)', 'ESS저장용량(kWh)', 'PCS용량(kW)']:\n",
    "    building[col] = pd.to_numeric(building[col].replace('-', np.nan))\n",
    "    building[col] = building[col].fillna(0)\n",
    "\n",
    "# 필요한 열만 추출\n",
    "static_features = building[['건물번호', '태양광용량(kW)', 'ESS저장용량(kWh)', 'PCS용량(kW)']]\n",
    "\n",
    "# merge 수행 (왼쪽 기준: df)\n",
    "merged_df = df.merge(static_features, on='건물번호', how='left')\n"
   ]
  },
  {
   "cell_type": "code",
   "execution_count": 20,
   "metadata": {},
   "outputs": [
    {
     "name": "stdout",
     "output_type": "stream",
     "text": [
      "강수량(mm)\n",
      "0.0     185388\n",
      "0.1       2449\n",
      "0.2       1592\n",
      "0.3       1178\n",
      "0.4        893\n",
      "         ...  \n",
      "31.2         1\n",
      "48.6         1\n",
      "29.4         1\n",
      "37.4         1\n",
      "26.5         1\n",
      "Name: count, Length: 283, dtype: int64\n"
     ]
    }
   ],
   "source": [
    "\n",
    "\n",
    "counts = df['강수량(mm)'].value_counts()\n",
    "print(counts)"
   ]
  },
  {
   "cell_type": "code",
   "execution_count": null,
   "metadata": {},
   "outputs": [
    {
     "name": "stdout",
     "output_type": "stream",
     "text": [
      "Index(['num_date_time', '건물번호', '일시', '기온(°C)', '강수량(mm)', '풍속(m/s)', '습도(%)',\n",
      "       '일조(hr)', '일사(MJ/m2)', '전력소비량(kWh)', '태양광용량(kW)', 'ESS저장용량(kWh)',\n",
      "       'PCS용량(kW)'],\n",
      "      dtype='object')\n",
      "   num_date_time  건물번호           일시  기온(°C)  강수량(mm)  풍속(m/s)  습도(%)  일조(hr)  \\\n",
      "0  1_20240601 00     1  20240601 00    18.3      0.0      2.6   82.0     0.0   \n",
      "1  1_20240601 01     1  20240601 01    18.3      0.0      2.7   82.0     0.0   \n",
      "2  1_20240601 02     1  20240601 02    18.1      0.0      2.6   80.0     0.0   \n",
      "3  1_20240601 03     1  20240601 03    18.0      0.0      2.6   81.0     0.0   \n",
      "4  1_20240601 04     1  20240601 04    17.8      0.0      1.3   81.0     0.0   \n",
      "\n",
      "   일사(MJ/m2)  전력소비량(kWh)  태양광용량(kW)  ESS저장용량(kWh)  PCS용량(kW)  \n",
      "0        0.0     5794.80        0.0           0.0        0.0  \n",
      "1        0.0     5591.85        0.0           0.0        0.0  \n",
      "2        0.0     5338.17        0.0           0.0        0.0  \n",
      "3        0.0     4554.42        0.0           0.0        0.0  \n",
      "4        0.0     3602.25        0.0           0.0        0.0  \n"
     ]
    }
   ],
   "source": [
    "# merge 제대로 되었는지 확인\n",
    "print(merged_df.columns)\n",
    "print(merged_df.head())\n"
   ]
  },
  {
   "cell_type": "code",
   "execution_count": 23,
   "metadata": {},
   "outputs": [
    {
     "name": "stdout",
     "output_type": "stream",
     "text": [
      "<class 'pandas.core.frame.DataFrame'>\n",
      "RangeIndex: 204000 entries, 0 to 203999\n",
      "Data columns (total 10 columns):\n",
      " #   Column         Non-Null Count   Dtype  \n",
      "---  ------         --------------   -----  \n",
      " 0   num_date_time  204000 non-null  object \n",
      " 1   건물번호           204000 non-null  int64  \n",
      " 2   일시             204000 non-null  object \n",
      " 3   기온(°C)         204000 non-null  float64\n",
      " 4   강수량(mm)        204000 non-null  float64\n",
      " 5   풍속(m/s)        204000 non-null  float64\n",
      " 6   습도(%)          204000 non-null  float64\n",
      " 7   일조(hr)         204000 non-null  float64\n",
      " 8   일사(MJ/m2)      204000 non-null  float64\n",
      " 9   전력소비량(kWh)     204000 non-null  float64\n",
      "dtypes: float64(7), int64(1), object(2)\n",
      "memory usage: 15.6+ MB\n"
     ]
    }
   ],
   "source": [
    "train = pd.read_csv('/Users/Zeu/Downloads/dacon_electricity_usage_pred/data/train.csv')\n",
    "test = pd.read_csv('/Users/Zeu/Downloads/dacon_electricity_usage_pred/data/test.csv')\n",
    "\n",
    "train.info()\n"
   ]
  },
  {
   "cell_type": "code",
   "execution_count": 22,
   "metadata": {},
   "outputs": [
    {
     "name": "stdout",
     "output_type": "stream",
     "text": [
      "<class 'pandas.core.frame.DataFrame'>\n",
      "RangeIndex: 16800 entries, 0 to 16799\n",
      "Data columns (total 7 columns):\n",
      " #   Column         Non-Null Count  Dtype  \n",
      "---  ------         --------------  -----  \n",
      " 0   num_date_time  16800 non-null  object \n",
      " 1   건물번호           16800 non-null  int64  \n",
      " 2   일시             16800 non-null  object \n",
      " 3   기온(°C)         16800 non-null  float64\n",
      " 4   강수량(mm)        16800 non-null  float64\n",
      " 5   풍속(m/s)        16800 non-null  float64\n",
      " 6   습도(%)          16800 non-null  float64\n",
      "dtypes: float64(4), int64(1), object(2)\n",
      "memory usage: 918.9+ KB\n"
     ]
    }
   ],
   "source": [
    "test.info()"
   ]
  },
  {
   "cell_type": "code",
   "execution_count": 29,
   "metadata": {},
   "outputs": [
    {
     "ename": "KeyError",
     "evalue": "\"['일조(hr)', '일사(MJ/m2)'] not found in axis\"",
     "output_type": "error",
     "traceback": [
      "\u001b[31m---------------------------------------------------------------------------\u001b[39m",
      "\u001b[31mKeyError\u001b[39m                                  Traceback (most recent call last)",
      "\u001b[36mCell\u001b[39m\u001b[36m \u001b[39m\u001b[32mIn[29]\u001b[39m\u001b[32m, line 1\u001b[39m\n\u001b[32m----> \u001b[39m\u001b[32m1\u001b[39m train = \u001b[43mtrain\u001b[49m\u001b[43m.\u001b[49m\u001b[43mdrop\u001b[49m\u001b[43m(\u001b[49m\u001b[43mcolumns\u001b[49m\u001b[43m=\u001b[49m\u001b[43m[\u001b[49m\u001b[33;43m'\u001b[39;49m\u001b[33;43m일조(hr)\u001b[39;49m\u001b[33;43m'\u001b[39;49m\u001b[43m,\u001b[49m\u001b[43m \u001b[49m\u001b[33;43m'\u001b[39;49m\u001b[33;43m일사(MJ/m2)\u001b[39;49m\u001b[33;43m'\u001b[39;49m\u001b[43m]\u001b[49m\u001b[43m)\u001b[49m  \u001b[38;5;66;03m# 일조와 일사 열 제거\u001b[39;00m\n\u001b[32m      3\u001b[39m train[\u001b[33m'\u001b[39m\u001b[33mis_train\u001b[39m\u001b[33m'\u001b[39m] = \u001b[32m1\u001b[39m\n\u001b[32m      4\u001b[39m test[\u001b[33m'\u001b[39m\u001b[33mis_train\u001b[39m\u001b[33m'\u001b[39m] = \u001b[32m0\u001b[39m\n",
      "\u001b[36mFile \u001b[39m\u001b[32m~/Downloads/dacon_electricity_usage_pred/.venv/lib/python3.13/site-packages/pandas/core/frame.py:5588\u001b[39m, in \u001b[36mDataFrame.drop\u001b[39m\u001b[34m(self, labels, axis, index, columns, level, inplace, errors)\u001b[39m\n\u001b[32m   5440\u001b[39m \u001b[38;5;28;01mdef\u001b[39;00m\u001b[38;5;250m \u001b[39m\u001b[34mdrop\u001b[39m(\n\u001b[32m   5441\u001b[39m     \u001b[38;5;28mself\u001b[39m,\n\u001b[32m   5442\u001b[39m     labels: IndexLabel | \u001b[38;5;28;01mNone\u001b[39;00m = \u001b[38;5;28;01mNone\u001b[39;00m,\n\u001b[32m   (...)\u001b[39m\u001b[32m   5449\u001b[39m     errors: IgnoreRaise = \u001b[33m\"\u001b[39m\u001b[33mraise\u001b[39m\u001b[33m\"\u001b[39m,\n\u001b[32m   5450\u001b[39m ) -> DataFrame | \u001b[38;5;28;01mNone\u001b[39;00m:\n\u001b[32m   5451\u001b[39m \u001b[38;5;250m    \u001b[39m\u001b[33;03m\"\"\"\u001b[39;00m\n\u001b[32m   5452\u001b[39m \u001b[33;03m    Drop specified labels from rows or columns.\u001b[39;00m\n\u001b[32m   5453\u001b[39m \n\u001b[32m   (...)\u001b[39m\u001b[32m   5586\u001b[39m \u001b[33;03m            weight  1.0     0.8\u001b[39;00m\n\u001b[32m   5587\u001b[39m \u001b[33;03m    \"\"\"\u001b[39;00m\n\u001b[32m-> \u001b[39m\u001b[32m5588\u001b[39m     \u001b[38;5;28;01mreturn\u001b[39;00m \u001b[38;5;28;43msuper\u001b[39;49m\u001b[43m(\u001b[49m\u001b[43m)\u001b[49m\u001b[43m.\u001b[49m\u001b[43mdrop\u001b[49m\u001b[43m(\u001b[49m\n\u001b[32m   5589\u001b[39m \u001b[43m        \u001b[49m\u001b[43mlabels\u001b[49m\u001b[43m=\u001b[49m\u001b[43mlabels\u001b[49m\u001b[43m,\u001b[49m\n\u001b[32m   5590\u001b[39m \u001b[43m        \u001b[49m\u001b[43maxis\u001b[49m\u001b[43m=\u001b[49m\u001b[43maxis\u001b[49m\u001b[43m,\u001b[49m\n\u001b[32m   5591\u001b[39m \u001b[43m        \u001b[49m\u001b[43mindex\u001b[49m\u001b[43m=\u001b[49m\u001b[43mindex\u001b[49m\u001b[43m,\u001b[49m\n\u001b[32m   5592\u001b[39m \u001b[43m        \u001b[49m\u001b[43mcolumns\u001b[49m\u001b[43m=\u001b[49m\u001b[43mcolumns\u001b[49m\u001b[43m,\u001b[49m\n\u001b[32m   5593\u001b[39m \u001b[43m        \u001b[49m\u001b[43mlevel\u001b[49m\u001b[43m=\u001b[49m\u001b[43mlevel\u001b[49m\u001b[43m,\u001b[49m\n\u001b[32m   5594\u001b[39m \u001b[43m        \u001b[49m\u001b[43minplace\u001b[49m\u001b[43m=\u001b[49m\u001b[43minplace\u001b[49m\u001b[43m,\u001b[49m\n\u001b[32m   5595\u001b[39m \u001b[43m        \u001b[49m\u001b[43merrors\u001b[49m\u001b[43m=\u001b[49m\u001b[43merrors\u001b[49m\u001b[43m,\u001b[49m\n\u001b[32m   5596\u001b[39m \u001b[43m    \u001b[49m\u001b[43m)\u001b[49m\n",
      "\u001b[36mFile \u001b[39m\u001b[32m~/Downloads/dacon_electricity_usage_pred/.venv/lib/python3.13/site-packages/pandas/core/generic.py:4807\u001b[39m, in \u001b[36mNDFrame.drop\u001b[39m\u001b[34m(self, labels, axis, index, columns, level, inplace, errors)\u001b[39m\n\u001b[32m   4805\u001b[39m \u001b[38;5;28;01mfor\u001b[39;00m axis, labels \u001b[38;5;129;01min\u001b[39;00m axes.items():\n\u001b[32m   4806\u001b[39m     \u001b[38;5;28;01mif\u001b[39;00m labels \u001b[38;5;129;01mis\u001b[39;00m \u001b[38;5;129;01mnot\u001b[39;00m \u001b[38;5;28;01mNone\u001b[39;00m:\n\u001b[32m-> \u001b[39m\u001b[32m4807\u001b[39m         obj = \u001b[43mobj\u001b[49m\u001b[43m.\u001b[49m\u001b[43m_drop_axis\u001b[49m\u001b[43m(\u001b[49m\u001b[43mlabels\u001b[49m\u001b[43m,\u001b[49m\u001b[43m \u001b[49m\u001b[43maxis\u001b[49m\u001b[43m,\u001b[49m\u001b[43m \u001b[49m\u001b[43mlevel\u001b[49m\u001b[43m=\u001b[49m\u001b[43mlevel\u001b[49m\u001b[43m,\u001b[49m\u001b[43m \u001b[49m\u001b[43merrors\u001b[49m\u001b[43m=\u001b[49m\u001b[43merrors\u001b[49m\u001b[43m)\u001b[49m\n\u001b[32m   4809\u001b[39m \u001b[38;5;28;01mif\u001b[39;00m inplace:\n\u001b[32m   4810\u001b[39m     \u001b[38;5;28mself\u001b[39m._update_inplace(obj)\n",
      "\u001b[36mFile \u001b[39m\u001b[32m~/Downloads/dacon_electricity_usage_pred/.venv/lib/python3.13/site-packages/pandas/core/generic.py:4849\u001b[39m, in \u001b[36mNDFrame._drop_axis\u001b[39m\u001b[34m(self, labels, axis, level, errors, only_slice)\u001b[39m\n\u001b[32m   4847\u001b[39m         new_axis = axis.drop(labels, level=level, errors=errors)\n\u001b[32m   4848\u001b[39m     \u001b[38;5;28;01melse\u001b[39;00m:\n\u001b[32m-> \u001b[39m\u001b[32m4849\u001b[39m         new_axis = \u001b[43maxis\u001b[49m\u001b[43m.\u001b[49m\u001b[43mdrop\u001b[49m\u001b[43m(\u001b[49m\u001b[43mlabels\u001b[49m\u001b[43m,\u001b[49m\u001b[43m \u001b[49m\u001b[43merrors\u001b[49m\u001b[43m=\u001b[49m\u001b[43merrors\u001b[49m\u001b[43m)\u001b[49m\n\u001b[32m   4850\u001b[39m     indexer = axis.get_indexer(new_axis)\n\u001b[32m   4852\u001b[39m \u001b[38;5;66;03m# Case for non-unique axis\u001b[39;00m\n\u001b[32m   4853\u001b[39m \u001b[38;5;28;01melse\u001b[39;00m:\n",
      "\u001b[36mFile \u001b[39m\u001b[32m~/Downloads/dacon_electricity_usage_pred/.venv/lib/python3.13/site-packages/pandas/core/indexes/base.py:7136\u001b[39m, in \u001b[36mIndex.drop\u001b[39m\u001b[34m(self, labels, errors)\u001b[39m\n\u001b[32m   7134\u001b[39m \u001b[38;5;28;01mif\u001b[39;00m mask.any():\n\u001b[32m   7135\u001b[39m     \u001b[38;5;28;01mif\u001b[39;00m errors != \u001b[33m\"\u001b[39m\u001b[33mignore\u001b[39m\u001b[33m\"\u001b[39m:\n\u001b[32m-> \u001b[39m\u001b[32m7136\u001b[39m         \u001b[38;5;28;01mraise\u001b[39;00m \u001b[38;5;167;01mKeyError\u001b[39;00m(\u001b[33mf\u001b[39m\u001b[33m\"\u001b[39m\u001b[38;5;132;01m{\u001b[39;00mlabels[mask].tolist()\u001b[38;5;132;01m}\u001b[39;00m\u001b[33m not found in axis\u001b[39m\u001b[33m\"\u001b[39m)\n\u001b[32m   7137\u001b[39m     indexer = indexer[~mask]\n\u001b[32m   7138\u001b[39m \u001b[38;5;28;01mreturn\u001b[39;00m \u001b[38;5;28mself\u001b[39m.delete(indexer)\n",
      "\u001b[31mKeyError\u001b[39m: \"['일조(hr)', '일사(MJ/m2)'] not found in axis\""
     ]
    }
   ],
   "source": [
    "train = train.drop(columns=['일조(hr)', '일사(MJ/m2)'])  # 일조와 일사 열 제거\n",
    "\n",
    "train['is_train'] = 1\n",
    "test['is_train'] = 0\n",
    "\n",
    "combined_df = pd.concat([train, test], ignore_index=True)\n",
    "\n",
    "combined_df.info()\n"
   ]
  },
  {
   "cell_type": "code",
   "execution_count": 31,
   "metadata": {},
   "outputs": [
    {
     "name": "stdout",
     "output_type": "stream",
     "text": [
      "<class 'pandas.core.frame.DataFrame'>\n",
      "RangeIndex: 220800 entries, 0 to 220799\n",
      "Data columns (total 9 columns):\n",
      " #   Column         Non-Null Count   Dtype  \n",
      "---  ------         --------------   -----  \n",
      " 0   num_date_time  220800 non-null  object \n",
      " 1   건물번호           220800 non-null  int64  \n",
      " 2   일시             220800 non-null  object \n",
      " 3   기온(°C)         220800 non-null  float64\n",
      " 4   강수량(mm)        220800 non-null  float64\n",
      " 5   풍속(m/s)        220800 non-null  float64\n",
      " 6   습도(%)          220800 non-null  float64\n",
      " 7   전력소비량(kWh)     204000 non-null  float64\n",
      " 8   is_train       220800 non-null  int64  \n",
      "dtypes: float64(5), int64(2), object(2)\n",
      "memory usage: 15.2+ MB\n"
     ]
    }
   ],
   "source": [
    "combined_df.info()"
   ]
  },
  {
   "cell_type": "code",
   "execution_count": 34,
   "metadata": {},
   "outputs": [
    {
     "data": {
      "image/png": "[encoded data removed]",
      "text/plain": [
       "<Figure size 640x480 with 1 Axes>"
      ]
     },
     "metadata": {},
     "output_type": "display_data"
    }
   ],
   "source": [
    "temp = combined_df['기온(°C)'] \n",
    "\n",
    "sns.lineplot(x=temp.index, y=temp.values)\n",
    "plt.title('Temperature Over Time')\n",
    "plt.xlabel('Index')\n",
    "plt.ylabel('Temperature')\n",
    "plt.show()\n"
   ]
  },
  {
   "cell_type": "code",
   "execution_count": 35,
   "metadata": {},
   "outputs": [
    {
     "data": {
      "text/plain": [
       "Text(0.5, 1.0, 'Temperature Distribution')"
      ]
     },
     "execution_count": 35,
     "metadata": {},
     "output_type": "execute_result"
    },
    {
     "name": "stderr",
     "output_type": "stream",
     "text": [
      "/Users/Zeu/Downloads/dacon_electricity_usage_pred/.venv/lib/python3.13/site-packages/IPython/core/events.py:82: UserWarning: Glyph 44592 (\\N{HANGUL SYLLABLE GI}) missing from font(s) DejaVu Sans.\n",
      "  func(*args, **kwargs)\n",
      "/Users/Zeu/Downloads/dacon_electricity_usage_pred/.venv/lib/python3.13/site-packages/IPython/core/events.py:82: UserWarning: Glyph 50728 (\\N{HANGUL SYLLABLE ON}) missing from font(s) DejaVu Sans.\n",
      "  func(*args, **kwargs)\n",
      "/Users/Zeu/Downloads/dacon_electricity_usage_pred/.venv/lib/python3.13/site-packages/IPython/core/pylabtools.py:170: UserWarning: Glyph 44592 (\\N{HANGUL SYLLABLE GI}) missing from font(s) DejaVu Sans.\n",
      "  fig.canvas.print_figure(bytes_io, **kw)\n",
      "/Users/Zeu/Downloads/dacon_electricity_usage_pred/.venv/lib/python3.13/site-packages/IPython/core/pylabtools.py:170: UserWarning: Glyph 50728 (\\N{HANGUL SYLLABLE ON}) missing from font(s) DejaVu Sans.\n",
      "  fig.canvas.print_figure(bytes_io, **kw)\n"
     ]
    },
    {
     "data": {
      "image/png": "[encoded data removed]",
      "text/plain": [
       "<Figure size 640x480 with 1 Axes>"
      ]
     },
     "metadata": {},
     "output_type": "display_data"
    }
   ],
   "source": [
    "sns.histplot(temp, kde=True, bins=50)\n",
    "plt.title('Temperature Distribution')"
   ]
  },
  {
   "cell_type": "code",
   "execution_count": 39,
   "metadata": {},
   "outputs": [
    {
     "data": {
      "image/png": "[encoded data removed]",
      "text/plain": [
       "<Figure size 1000x800 with 2 Axes>"
      ]
     },
     "metadata": {},
     "output_type": "display_data"
    }
   ],
   "source": [
    "\n",
    "# 수치형 열만 추출 (문자형, 날짜형 제외)\n",
    "numeric_cols = combined_df.select_dtypes(include=['float64', 'int64']).columns\n",
    "\n",
    "# 상관계수 행렬\n",
    "corr = combined_df[numeric_cols].corr()\n",
    "\n",
    "# 히트맵 시각화\n",
    "plt.figure(figsize=(10, 8))\n",
    "sns.heatmap(corr, annot=True, fmt=\".2f\", cmap='coolwarm', center=0)\n",
    "plt.title('Feature Correlation Heatmap')\n",
    "plt.tight_layout()\n",
    "plt.show()"
   ]
  },
  {
   "cell_type": "code",
   "execution_count": 40,
   "metadata": {},
   "outputs": [],
   "source": [
    "\n",
    "# 2. '-' 값을 NaN으로, 그 후 0으로 대체\n",
    "cols_to_convert = ['태양광용량(kW)', 'ESS저장용량(kWh)', 'PCS용량(kW)']\n",
    "for col in cols_to_convert:\n",
    "    building[col] = pd.to_numeric(building[col].replace('-', np.nan))\n",
    "    building[col] = building[col].fillna(0)\n",
    "\n",
    "# 3. 필요한 열만 merge\n",
    "merged_df = combined_df.merge(\n",
    "    building[['건물번호'] + cols_to_convert],\n",
    "    on='건물번호',\n",
    "    how='left'\n",
    ")"
   ]
  },
  {
   "cell_type": "code",
   "execution_count": 41,
   "metadata": {},
   "outputs": [
    {
     "name": "stdout",
     "output_type": "stream",
     "text": [
      "           태양광용량(kW)  ESS저장용량(kWh)      PCS용량(kW)\n",
      "count  220800.000000  220800.00000  220800.000000\n",
      "mean      231.792200     116.30800      58.270000\n",
      "std       419.067099     455.25775     219.863812\n",
      "min         0.000000       0.00000       0.000000\n",
      "25%         0.000000       0.00000       0.000000\n",
      "50%        28.125000       0.00000       0.000000\n",
      "75%       228.670000       0.00000       0.000000\n",
      "max      1983.050000    3100.00000    1500.000000\n",
      "num_date_time        0\n",
      "건물번호                 0\n",
      "일시                   0\n",
      "기온(°C)               0\n",
      "강수량(mm)              0\n",
      "풍속(m/s)              0\n",
      "습도(%)                0\n",
      "전력소비량(kWh)       16800\n",
      "is_train             0\n",
      "태양광용량(kW)            0\n",
      "ESS저장용량(kWh)         0\n",
      "PCS용량(kW)            0\n",
      "dtype: int64\n"
     ]
    }
   ],
   "source": [
    "print(merged_df[cols_to_convert].describe())  # 값 분포 확인\n",
    "print(merged_df.isnull().sum())              # NaN 여부 확인\n"
   ]
  },
  {
   "cell_type": "code",
   "execution_count": 44,
   "metadata": {},
   "outputs": [],
   "source": [
    "merged_df['일시'] = pd.to_datetime(merged_df['일시'], format='%Y%m%d %H')\n"
   ]
  },
  {
   "cell_type": "code",
   "execution_count": 47,
   "metadata": {},
   "outputs": [],
   "source": [
    "\n",
    "# 2. 시간 기반 파생 피처\n",
    "merged_df['hour'] = merged_df['일시'].dt.hour                   # 시간대 (0~23)\n",
    "merged_df['dayofweek'] = merged_df['일시'].dt.dayofweek         # 요일 (월=0 ~ 일=6)\n",
    "merged_df['month'] = merged_df['일시'].dt.month                 # 월 (1~12)\n",
    "merged_df['is_weekend'] = (merged_df['dayofweek'] >= 5).astype(int)  # 주말 여부\n",
    "\n",
    "# 3. 계절 정보\n",
    "def get_season(month):\n",
    "    if month in [3, 4, 5]: return 1  # 봄\n",
    "    elif month in [6, 7, 8]: return 2  # 여름\n",
    "    elif month in [9, 10, 11]: return 3  # 가을\n",
    "    else: return 4  # 겨울\n",
    "\n",
    "merged_df['season'] = merged_df['month'].map(get_season)\n",
    "\n",
    "# 4. 설비 설치 여부 (0/1)\n",
    "merged_df['has_solar'] = (merged_df['태양광용량(kW)'] > 0).astype(int)\n",
    "merged_df['has_ess'] = (merged_df['ESS저장용량(kWh)'] > 0).astype(int)\n",
    "merged_df['has_pcs'] = (merged_df['PCS용량(kW)'] > 0).astype(int)\n",
    "\n",
    "# 5. 상호작용 피처 (기온 × 설비)\n",
    "merged_df['기온x태양광'] = merged_df['기온(°C)'] * merged_df['has_solar']\n",
    "merged_df['기온xESS'] = merged_df['기온(°C)'] * merged_df['has_ess']\n",
    "\n",
    "# 6. 체감온도 (Simplified version)\n",
    "merged_df['체감온도'] = merged_df['기온(°C)'] - ((0.55 - 0.0055 * merged_df['습도(%)']) * (merged_df['기온(°C)'] - 14.5))\n",
    "\n",
    "# 7. 불쾌지수 (Discomfort Index)\n",
    "merged_df['불쾌지수'] = 0.81 * merged_df['기온(°C)'] + 0.01 * merged_df['습도(%)'] * (0.99 * merged_df['기온(°C)'] - 14.3) + 46.3\n",
    "\n",
    "# 8. 전력소비량은 train에만 존재하므로 제외 대상\n",
    "# 9. 최종적으로 사용하지 않을 열 제거 가능"
   ]
  },
  {
   "cell_type": "code",
   "execution_count": 48,
   "metadata": {},
   "outputs": [
    {
     "name": "stdout",
     "output_type": "stream",
     "text": [
      "<class 'pandas.core.frame.DataFrame'>\n",
      "RangeIndex: 220800 entries, 0 to 220799\n",
      "Data columns (total 24 columns):\n",
      " #   Column         Non-Null Count   Dtype         \n",
      "---  ------         --------------   -----         \n",
      " 0   num_date_time  220800 non-null  object        \n",
      " 1   건물번호           220800 non-null  int64         \n",
      " 2   일시             220800 non-null  datetime64[ns]\n",
      " 3   기온(°C)         220800 non-null  float64       \n",
      " 4   강수량(mm)        220800 non-null  float64       \n",
      " 5   풍속(m/s)        220800 non-null  float64       \n",
      " 6   습도(%)          220800 non-null  float64       \n",
      " 7   전력소비량(kWh)     204000 non-null  float64       \n",
      " 8   is_train       220800 non-null  int64         \n",
      " 9   태양광용량(kW)      220800 non-null  float64       \n",
      " 10  ESS저장용량(kWh)   220800 non-null  float64       \n",
      " 11  PCS용량(kW)      220800 non-null  float64       \n",
      " 12  hour           220800 non-null  int32         \n",
      " 13  dayofweek      220800 non-null  int32         \n",
      " 14  month          220800 non-null  int32         \n",
      " 15  is_weekend     220800 non-null  int64         \n",
      " 16  season         220800 non-null  int64         \n",
      " 17  has_solar      220800 non-null  int64         \n",
      " 18  has_ess        220800 non-null  int64         \n",
      " 19  has_pcs        220800 non-null  int64         \n",
      " 20  기온x태양광         220800 non-null  float64       \n",
      " 21  기온xESS         220800 non-null  float64       \n",
      " 22  체감온도           220800 non-null  float64       \n",
      " 23  불쾌지수           220800 non-null  float64       \n",
      "dtypes: datetime64[ns](1), float64(12), int32(3), int64(7), object(1)\n",
      "memory usage: 37.9+ MB\n"
     ]
    }
   ],
   "source": [
    "merged_df.info()  # 최종 데이터프레임 정보 확인\n"
   ]
  },
  {
   "cell_type": "code",
   "execution_count": 49,
   "metadata": {},
   "outputs": [
    {
     "data": {
      "text/html": [
       "<div>\n",
       "<style scoped>\n",
       "    .dataframe tbody tr th:only-of-type {\n",
       "        vertical-align: middle;\n",
       "    }\n",
       "\n",
       "    .dataframe tbody tr th {\n",
       "        vertical-align: top;\n",
       "    }\n",
       "\n",
       "    .dataframe thead th {\n",
       "        text-align: right;\n",
       "    }\n",
       "</style>\n",
       "<table border=\"1\" class=\"dataframe\">\n",
       "  <thead>\n",
       "    <tr style=\"text-align: right;\">\n",
       "      <th></th>\n",
       "      <th>num_date_time</th>\n",
       "      <th>건물번호</th>\n",
       "      <th>일시</th>\n",
       "      <th>기온(°C)</th>\n",
       "      <th>강수량(mm)</th>\n",
       "      <th>풍속(m/s)</th>\n",
       "      <th>습도(%)</th>\n",
       "      <th>전력소비량(kWh)</th>\n",
       "      <th>is_train</th>\n",
       "      <th>태양광용량(kW)</th>\n",
       "      <th>...</th>\n",
       "      <th>month</th>\n",
       "      <th>is_weekend</th>\n",
       "      <th>season</th>\n",
       "      <th>has_solar</th>\n",
       "      <th>has_ess</th>\n",
       "      <th>has_pcs</th>\n",
       "      <th>기온x태양광</th>\n",
       "      <th>기온xESS</th>\n",
       "      <th>체감온도</th>\n",
       "      <th>불쾌지수</th>\n",
       "    </tr>\n",
       "  </thead>\n",
       "  <tbody>\n",
       "    <tr>\n",
       "      <th>0</th>\n",
       "      <td>1_20240601 00</td>\n",
       "      <td>1</td>\n",
       "      <td>2024-06-01 00:00:00</td>\n",
       "      <td>18.3</td>\n",
       "      <td>0.0</td>\n",
       "      <td>2.6</td>\n",
       "      <td>82.0</td>\n",
       "      <td>5794.80</td>\n",
       "      <td>1</td>\n",
       "      <td>0.0</td>\n",
       "      <td>...</td>\n",
       "      <td>6</td>\n",
       "      <td>1</td>\n",
       "      <td>2</td>\n",
       "      <td>0</td>\n",
       "      <td>0</td>\n",
       "      <td>0</td>\n",
       "      <td>0.0</td>\n",
       "      <td>0.0</td>\n",
       "      <td>17.92380</td>\n",
       "      <td>64.25294</td>\n",
       "    </tr>\n",
       "    <tr>\n",
       "      <th>1</th>\n",
       "      <td>1_20240601 01</td>\n",
       "      <td>1</td>\n",
       "      <td>2024-06-01 01:00:00</td>\n",
       "      <td>18.3</td>\n",
       "      <td>0.0</td>\n",
       "      <td>2.7</td>\n",
       "      <td>82.0</td>\n",
       "      <td>5591.85</td>\n",
       "      <td>1</td>\n",
       "      <td>0.0</td>\n",
       "      <td>...</td>\n",
       "      <td>6</td>\n",
       "      <td>1</td>\n",
       "      <td>2</td>\n",
       "      <td>0</td>\n",
       "      <td>0</td>\n",
       "      <td>0</td>\n",
       "      <td>0.0</td>\n",
       "      <td>0.0</td>\n",
       "      <td>17.92380</td>\n",
       "      <td>64.25294</td>\n",
       "    </tr>\n",
       "    <tr>\n",
       "      <th>2</th>\n",
       "      <td>1_20240601 02</td>\n",
       "      <td>1</td>\n",
       "      <td>2024-06-01 02:00:00</td>\n",
       "      <td>18.1</td>\n",
       "      <td>0.0</td>\n",
       "      <td>2.6</td>\n",
       "      <td>80.0</td>\n",
       "      <td>5338.17</td>\n",
       "      <td>1</td>\n",
       "      <td>0.0</td>\n",
       "      <td>...</td>\n",
       "      <td>6</td>\n",
       "      <td>1</td>\n",
       "      <td>2</td>\n",
       "      <td>0</td>\n",
       "      <td>0</td>\n",
       "      <td>0</td>\n",
       "      <td>0.0</td>\n",
       "      <td>0.0</td>\n",
       "      <td>17.70400</td>\n",
       "      <td>63.85620</td>\n",
       "    </tr>\n",
       "    <tr>\n",
       "      <th>3</th>\n",
       "      <td>1_20240601 03</td>\n",
       "      <td>1</td>\n",
       "      <td>2024-06-01 03:00:00</td>\n",
       "      <td>18.0</td>\n",
       "      <td>0.0</td>\n",
       "      <td>2.6</td>\n",
       "      <td>81.0</td>\n",
       "      <td>4554.42</td>\n",
       "      <td>1</td>\n",
       "      <td>0.0</td>\n",
       "      <td>...</td>\n",
       "      <td>6</td>\n",
       "      <td>1</td>\n",
       "      <td>2</td>\n",
       "      <td>0</td>\n",
       "      <td>0</td>\n",
       "      <td>0</td>\n",
       "      <td>0.0</td>\n",
       "      <td>0.0</td>\n",
       "      <td>17.63425</td>\n",
       "      <td>63.73120</td>\n",
       "    </tr>\n",
       "    <tr>\n",
       "      <th>4</th>\n",
       "      <td>1_20240601 04</td>\n",
       "      <td>1</td>\n",
       "      <td>2024-06-01 04:00:00</td>\n",
       "      <td>17.8</td>\n",
       "      <td>0.0</td>\n",
       "      <td>1.3</td>\n",
       "      <td>81.0</td>\n",
       "      <td>3602.25</td>\n",
       "      <td>1</td>\n",
       "      <td>0.0</td>\n",
       "      <td>...</td>\n",
       "      <td>6</td>\n",
       "      <td>1</td>\n",
       "      <td>2</td>\n",
       "      <td>0</td>\n",
       "      <td>0</td>\n",
       "      <td>0</td>\n",
       "      <td>0.0</td>\n",
       "      <td>0.0</td>\n",
       "      <td>17.45515</td>\n",
       "      <td>63.40882</td>\n",
       "    </tr>\n",
       "  </tbody>\n",
       "</table>\n",
       "<p>5 rows × 24 columns</p>\n",
       "</div>"
      ],
      "text/plain": [
       "   num_date_time  건물번호                  일시  기온(°C)  강수량(mm)  풍속(m/s)  습도(%)  \\\n",
       "0  1_20240601 00     1 2024-06-01 00:00:00    18.3      0.0      2.6   82.0   \n",
       "1  1_20240601 01     1 2024-06-01 01:00:00    18.3      0.0      2.7   82.0   \n",
       "2  1_20240601 02     1 2024-06-01 02:00:00    18.1      0.0      2.6   80.0   \n",
       "3  1_20240601 03     1 2024-06-01 03:00:00    18.0      0.0      2.6   81.0   \n",
       "4  1_20240601 04     1 2024-06-01 04:00:00    17.8      0.0      1.3   81.0   \n",
       "\n",
       "   전력소비량(kWh)  is_train  태양광용량(kW)  ...  month  is_weekend  season  has_solar  \\\n",
       "0     5794.80         1        0.0  ...      6           1       2          0   \n",
       "1     5591.85         1        0.0  ...      6           1       2          0   \n",
       "2     5338.17         1        0.0  ...      6           1       2          0   \n",
       "3     4554.42         1        0.0  ...      6           1       2          0   \n",
       "4     3602.25         1        0.0  ...      6           1       2          0   \n",
       "\n",
       "   has_ess  has_pcs  기온x태양광  기온xESS      체감온도      불쾌지수  \n",
       "0        0        0     0.0     0.0  17.92380  64.25294  \n",
       "1        0        0     0.0     0.0  17.92380  64.25294  \n",
       "2        0        0     0.0     0.0  17.70400  63.85620  \n",
       "3        0        0     0.0     0.0  17.63425  63.73120  \n",
       "4        0        0     0.0     0.0  17.45515  63.40882  \n",
       "\n",
       "[5 rows x 24 columns]"
      ]
     },
     "execution_count": 49,
     "metadata": {},
     "output_type": "execute_result"
    }
   ],
   "source": [
    "merged_df.head()  # 최종 데이터프레임 확인\n"
   ]
  },
  {
   "cell_type": "code",
   "execution_count": 52,
   "metadata": {},
   "outputs": [
    {
     "name": "stderr",
     "output_type": "stream",
     "text": [
      "/Users/Zeu/Downloads/dacon_electricity_usage_pred/.venv/lib/python3.13/site-packages/tqdm/auto.py:21: TqdmWarning: IProgress not found. Please update jupyter and ipywidgets. See https://ipywidgets.readthedocs.io/en/stable/user_install.html\n",
      "  from .autonotebook import tqdm as notebook_tqdm\n"
     ]
    },
    {
     "name": "stdout",
     "output_type": "stream",
     "text": [
      "=== 앙상블 모델링 시작 ===\n",
      "훈련 데이터 크기: (204000, 20)\n",
      "테스트 데이터 크기: (16800, 20)\n",
      "특성: ['건물번호', '기온(°C)', '강수량(mm)', '풍속(m/s)', '습도(%)', '태양광용량(kW)', 'ESS저장용량(kWh)', 'PCS용량(kW)', 'hour', 'dayofweek', 'month', 'is_weekend', 'season', 'has_solar', 'has_ess', 'has_pcs', '기온x태양광', '기온xESS', '체감온도', '불쾌지수']\n",
      "교차 검증 시작...\n"
     ]
    },
    {
     "name": "stderr",
     "output_type": "stream",
     "text": [
      "Cross Validation:   0%|          | 0/5 [00:00<?, ?it/s]"
     ]
    },
    {
     "name": "stdout",
     "output_type": "stream",
     "text": [
      "\n",
      "Fold 1/5 처리 중...\n",
      "  - LightGBM 훈련 중...\n",
      "  - XGBoost 훈련 중...\n",
      "  - CatBoost 훈련 중...\n"
     ]
    },
    {
     "name": "stderr",
     "output_type": "stream",
     "text": [
      "Cross Validation:  20%|██        | 1/5 [00:06<00:26,  6.71s/it]"
     ]
    },
    {
     "name": "stdout",
     "output_type": "stream",
     "text": [
      "  - Fold 1 점수 - LGBM: 21.3360, XGB: 15.4934, CAT: 15.2525\n",
      "  - 테스트 데이터 예측 중...\n",
      "\n",
      "Fold 2/5 처리 중...\n",
      "  - LightGBM 훈련 중...\n",
      "  - XGBoost 훈련 중...\n",
      "  - CatBoost 훈련 중...\n"
     ]
    },
    {
     "name": "stderr",
     "output_type": "stream",
     "text": [
      "Cross Validation:  40%|████      | 2/5 [00:13<00:19,  6.58s/it]"
     ]
    },
    {
     "name": "stdout",
     "output_type": "stream",
     "text": [
      "  - Fold 2 점수 - LGBM: 21.4802, XGB: 15.9581, CAT: 15.7114\n",
      "  - 테스트 데이터 예측 중...\n",
      "\n",
      "Fold 3/5 처리 중...\n",
      "  - LightGBM 훈련 중...\n",
      "  - XGBoost 훈련 중...\n",
      "  - CatBoost 훈련 중...\n"
     ]
    },
    {
     "name": "stderr",
     "output_type": "stream",
     "text": [
      "Cross Validation:  60%|██████    | 3/5 [00:19<00:13,  6.58s/it]"
     ]
    },
    {
     "name": "stdout",
     "output_type": "stream",
     "text": [
      "  - Fold 3 점수 - LGBM: 21.8212, XGB: 15.1866, CAT: 15.2625\n",
      "  - 테스트 데이터 예측 중...\n",
      "\n",
      "Fold 4/5 처리 중...\n",
      "  - LightGBM 훈련 중...\n",
      "  - XGBoost 훈련 중...\n",
      "  - CatBoost 훈련 중...\n"
     ]
    },
    {
     "name": "stderr",
     "output_type": "stream",
     "text": [
      "Cross Validation:  80%|████████  | 4/5 [00:26<00:06,  6.52s/it]"
     ]
    },
    {
     "name": "stdout",
     "output_type": "stream",
     "text": [
      "  - Fold 4 점수 - LGBM: 21.4513, XGB: 15.9078, CAT: 15.2650\n",
      "  - 테스트 데이터 예측 중...\n",
      "\n",
      "Fold 5/5 처리 중...\n",
      "  - LightGBM 훈련 중...\n",
      "  - XGBoost 훈련 중...\n",
      "  - CatBoost 훈련 중...\n"
     ]
    },
    {
     "name": "stderr",
     "output_type": "stream",
     "text": [
      "Cross Validation: 100%|██████████| 5/5 [00:32<00:00,  6.54s/it]\n"
     ]
    },
    {
     "name": "stdout",
     "output_type": "stream",
     "text": [
      "  - Fold 5 점수 - LGBM: 21.4175, XGB: 15.4001, CAT: 15.1538\n",
      "  - 테스트 데이터 예측 중...\n",
      "\n",
      "=== 교차 검증 결과 ===\n",
      "LightGBM SMAPE: 21.5012 (±0.1671)\n",
      "XGBoost SMAPE: 15.5892 (±0.2982)\n",
      "CatBoost SMAPE: 15.3291 (±0.1956)\n",
      "\n",
      "=== 가중치 ===\n",
      "LightGBM: 0.2644\n",
      "XGBoost: 0.3647\n",
      "CatBoost: 0.3709\n",
      "스태킹 앙상블 훈련 중...\n"
     ]
    },
    {
     "name": "stderr",
     "output_type": "stream",
     "text": [
      "Stacking Model Training: 100%|██████████| 1/1 [00:39<00:00, 39.56s/it]\n"
     ]
    },
    {
     "name": "stdout",
     "output_type": "stream",
     "text": [
      "스태킹 모델 예측 중...\n"
     ]
    },
    {
     "name": "stderr",
     "output_type": "stream",
     "text": [
      "Stacking Prediction: 100%|██████████| 1/1 [00:00<00:00, 19.25it/s]"
     ]
    },
    {
     "name": "stdout",
     "output_type": "stream",
     "text": [
      "\n",
      "=== 제출 파일 생성 ===\n",
      "가중 앙상블 결과: submission_weighted.csv\n",
      "스태킹 앙상블 결과: submission_stacked.csv\n",
      "\n",
      "=== 예측 결과 요약 ===\n",
      "가중 앙상블 예측 범위: -22.49 ~ 24997.45\n",
      "스태킹 앙상블 예측 범위: 2808.73 ~ 4699.42\n",
      "\n",
      "=== 첫 10개 예측값 비교 ===\n",
      "                   ID     Weighted      Stacked\n",
      "204000  1_20240825 00  4659.490196  3241.701003\n",
      "204001  1_20240825 01  4526.972237  3232.330514\n",
      "204002  1_20240825 02  4410.801548  3186.000781\n",
      "204003  1_20240825 03  4290.634897  3266.160488\n",
      "204004  1_20240825 04  4258.169201  3235.874009\n",
      "204005  1_20240825 05  4302.900372  3277.533539\n",
      "204006  1_20240825 06  4416.088256  3333.227028\n",
      "204007  1_20240825 07  4901.285028  3352.450285\n",
      "204008  1_20240825 08  5335.284824  3350.898680\n",
      "204009  1_20240825 09  5879.978590  3403.845565\n"
     ]
    },
    {
     "name": "stderr",
     "output_type": "stream",
     "text": [
      "\n"
     ]
    }
   ],
   "source": [
    "import pandas as pd\n",
    "import numpy as np\n",
    "from sklearn.model_selection import KFold\n",
    "from sklearn.metrics import mean_absolute_error\n",
    "from lightgbm import LGBMRegressor\n",
    "from xgboost import XGBRegressor\n",
    "from catboost import CatBoostRegressor\n",
    "from sklearn.linear_model import LinearRegression\n",
    "from sklearn.ensemble import StackingRegressor\n",
    "from sklearn.preprocessing import LabelEncoder\n",
    "from tqdm.auto import tqdm\n",
    "import warnings\n",
    "warnings.filterwarnings('ignore')\n",
    "\n",
    "# === 2. SMAPE 함수 정의 ===\n",
    "def smape(y_true, y_pred):\n",
    "    \"\"\"SMAPE (Symmetric Mean Absolute Percentage Error) 계산\"\"\"\n",
    "    denominator = (np.abs(y_true) + np.abs(y_pred)) / 2.0\n",
    "    diff = np.abs(y_true - y_pred) / denominator\n",
    "    diff[denominator == 0] = 0.0\n",
    "    return np.mean(diff) * 100\n",
    "\n",
    "# === 3. 데이터 준비 함수 ===\n",
    "def prepare_data(df):\n",
    "    \"\"\"데이터를 훈련/테스트로 분리하고 전처리\"\"\"\n",
    "    drop_cols = ['num_date_time', '일시', 'is_train']\n",
    "    target_col = '전력소비량(kWh)'\n",
    "    \n",
    "    # 훈련/테스트 데이터 분리\n",
    "    train_df = df[df['is_train'] == 1].copy()\n",
    "    test_df = df[df['is_train'] == 0].copy()\n",
    "    \n",
    "    # 특성과 타겟 분리\n",
    "    X_train = train_df.drop(columns=drop_cols + [target_col])\n",
    "    y_train = train_df[target_col]\n",
    "    X_test = test_df.drop(columns=drop_cols + [target_col])\n",
    "    \n",
    "    print(f\"훈련 데이터 크기: {X_train.shape}\")\n",
    "    print(f\"테스트 데이터 크기: {X_test.shape}\")\n",
    "    print(f\"특성: {list(X_train.columns)}\")\n",
    "    \n",
    "    return X_train, y_train, X_test\n",
    "\n",
    "# === 4. Cross Validation + 개별 모델 학습 및 예측 ===\n",
    "def cross_val_ensemble(X, y, X_test, folds=5):\n",
    "    \"\"\"교차 검증을 통한 앙상블 예측\"\"\"\n",
    "    kf = KFold(n_splits=folds, shuffle=True, random_state=42)\n",
    "\n",
    "    # 예측 저장 배열\n",
    "    preds_lgbm = np.zeros(X_test.shape[0])\n",
    "    preds_xgb = np.zeros(X_test.shape[0])\n",
    "    preds_cat = np.zeros(X_test.shape[0])\n",
    "    \n",
    "    # 검증 점수 저장\n",
    "    scores_lgbm = []\n",
    "    scores_xgb = []\n",
    "    scores_cat = []\n",
    "\n",
    "    print(\"교차 검증 시작...\")\n",
    "    \n",
    "    # tqdm으로 진행률 표시\n",
    "    for fold, (train_idx, val_idx) in enumerate(tqdm(kf.split(X), desc=\"Cross Validation\", total=folds)):\n",
    "        print(f\"\\nFold {fold + 1}/{folds} 처리 중...\")\n",
    "        \n",
    "        X_tr, X_val = X.iloc[train_idx], X.iloc[val_idx]\n",
    "        y_tr, y_val = y.iloc[train_idx], y.iloc[val_idx]\n",
    "\n",
    "        # 모델 초기화 및 훈련\n",
    "        print(\"  - LightGBM 훈련 중...\")\n",
    "        lgbm = LGBMRegressor(random_state=42, verbose=-1)\n",
    "        lgbm.fit(X_tr, y_tr)\n",
    "\n",
    "        print(\"  - XGBoost 훈련 중...\")\n",
    "        xgb = XGBRegressor(random_state=42, verbosity=0)\n",
    "        xgb.fit(X_tr, y_tr)\n",
    "\n",
    "        print(\"  - CatBoost 훈련 중...\")\n",
    "        cat = CatBoostRegressor(random_state=42, verbose=0)\n",
    "        cat.fit(X_tr, y_tr)\n",
    "\n",
    "        # 검증 예측\n",
    "        val_lgbm = lgbm.predict(X_val)\n",
    "        val_xgb = xgb.predict(X_val)\n",
    "        val_cat = cat.predict(X_val)\n",
    "\n",
    "        # 검증 점수 계산\n",
    "        score_lgbm = smape(y_val, val_lgbm)\n",
    "        score_xgb = smape(y_val, val_xgb)\n",
    "        score_cat = smape(y_val, val_cat)\n",
    "        \n",
    "        scores_lgbm.append(score_lgbm)\n",
    "        scores_xgb.append(score_xgb)\n",
    "        scores_cat.append(score_cat)\n",
    "        \n",
    "        print(f\"  - Fold {fold + 1} 점수 - LGBM: {score_lgbm:.4f}, XGB: {score_xgb:.4f}, CAT: {score_cat:.4f}\")\n",
    "\n",
    "        # 테스트 예측 (평균화를 위해 누적)\n",
    "        print(\"  - 테스트 데이터 예측 중...\")\n",
    "        preds_lgbm += lgbm.predict(X_test) / folds\n",
    "        preds_xgb += xgb.predict(X_test) / folds\n",
    "        preds_cat += cat.predict(X_test) / folds\n",
    "\n",
    "    # 평균 점수 출력\n",
    "    mean_lgbm = np.mean(scores_lgbm)\n",
    "    mean_xgb = np.mean(scores_xgb)\n",
    "    mean_cat = np.mean(scores_cat)\n",
    "    \n",
    "    print(f\"\\n=== 교차 검증 결과 ===\")\n",
    "    print(f\"LightGBM SMAPE: {mean_lgbm:.4f} (±{np.std(scores_lgbm):.4f})\")\n",
    "    print(f\"XGBoost SMAPE: {mean_xgb:.4f} (±{np.std(scores_xgb):.4f})\")\n",
    "    print(f\"CatBoost SMAPE: {mean_cat:.4f} (±{np.std(scores_cat):.4f})\")\n",
    "\n",
    "    return (\n",
    "        preds_lgbm, preds_xgb, preds_cat,\n",
    "        mean_lgbm, mean_xgb, mean_cat\n",
    "    )\n",
    "\n",
    "# === 5. Weighted 앙상블 ===\n",
    "def weighted_ensemble(p1, p2, p3, w1, w2, w3):\n",
    "    \"\"\"가중 평균 앙상블\"\"\"\n",
    "    return w1 * p1 + w2 * p2 + w3 * p3\n",
    "\n",
    "# === 6. Stacking 앙상블 ===\n",
    "def stacking_ensemble(X, y, X_test):\n",
    "    \"\"\"스태킹 앙상블\"\"\"\n",
    "    print(\"스태킹 앙상블 훈련 중...\")\n",
    "    \n",
    "    base_models = [\n",
    "        ('lgbm', LGBMRegressor(random_state=42, verbose=-1)),\n",
    "        ('xgb', XGBRegressor(random_state=42, verbosity=0)),\n",
    "        ('cat', CatBoostRegressor(random_state=42, verbose=0))\n",
    "    ]\n",
    "    \n",
    "    stack_model = StackingRegressor(\n",
    "        estimators=base_models, \n",
    "        final_estimator=LinearRegression(),\n",
    "        cv=5\n",
    "    )\n",
    "    \n",
    "    # tqdm으로 스태킹 진행률 표시 (간접적으로)\n",
    "    with tqdm(total=1, desc=\"Stacking Model Training\") as pbar:\n",
    "        stack_model.fit(X, y)\n",
    "        pbar.update(1)\n",
    "    \n",
    "    print(\"스태킹 모델 예측 중...\")\n",
    "    with tqdm(total=1, desc=\"Stacking Prediction\") as pbar:\n",
    "        predictions = stack_model.predict(X_test)\n",
    "        pbar.update(1)\n",
    "    \n",
    "    return predictions\n",
    "\n",
    "# === 메인 실행 부분 ===\n",
    "print(\"=== 앙상블 모델링 시작 ===\")\n",
    "\n",
    "# 1. 데이터 준비\n",
    "X_train, y_train, X_test = prepare_data(merged_df)\n",
    "\n",
    "# 2. 교차 검증 앙상블\n",
    "preds_lgbm, preds_xgb, preds_cat, smape_lgbm, smape_xgb, smape_cat = cross_val_ensemble(\n",
    "    X_train, y_train, X_test, folds=5\n",
    ")\n",
    "\n",
    "# 3. 가중 앙상블 (성능에 반비례하는 가중치)\n",
    "scores = [smape_lgbm, smape_xgb, smape_cat]\n",
    "weights = 1 / np.array(scores)  # 점수에 반비례\n",
    "weights = weights / weights.sum()  # 정규화\n",
    "\n",
    "print(f\"\\n=== 가중치 ===\")\n",
    "print(f\"LightGBM: {weights[0]:.4f}\")\n",
    "print(f\"XGBoost: {weights[1]:.4f}\")\n",
    "print(f\"CatBoost: {weights[2]:.4f}\")\n",
    "\n",
    "pred_weighted = weighted_ensemble(\n",
    "    preds_lgbm, preds_xgb, preds_cat, \n",
    "    weights[0], weights[1], weights[2]\n",
    ")\n",
    "\n",
    "# 4. 스태킹 앙상블\n",
    "pred_stacked = stacking_ensemble(X_train, y_train, X_test)\n",
    "\n",
    "# 5. 제출 파일 생성\n",
    "print(\"\\n=== 제출 파일 생성 ===\")\n",
    "\n",
    "# 테스트 데이터의 num_date_time 추출 (올바른 형식으로)\n",
    "test_ids = merged_df[merged_df['is_train'] == 0]['num_date_time'].copy()\n",
    "\n",
    "# submission 파일 생성\n",
    "submission_weighted = pd.DataFrame({\n",
    "    'num_date_time': test_ids,\n",
    "    'answer': pred_weighted\n",
    "})\n",
    "\n",
    "submission_stacked = pd.DataFrame({\n",
    "    'num_date_time': test_ids,\n",
    "    'answer': pred_stacked\n",
    "})\n",
    "\n",
    "# 파일 저장\n",
    "submission_weighted.to_csv('submission_weighted.csv', index=False)\n",
    "submission_stacked.to_csv('submission_stacked.csv', index=False)\n",
    "\n",
    "print(\"가중 앙상블 결과: submission_weighted.csv\")\n",
    "print(\"스태킹 앙상블 결과: submission_stacked.csv\")\n",
    "\n",
    "# 6. 결과 요약\n",
    "print(\"\\n=== 예측 결과 요약 ===\")\n",
    "print(f\"가중 앙상블 예측 범위: {pred_weighted.min():.2f} ~ {pred_weighted.max():.2f}\")\n",
    "print(f\"스태킹 앙상블 예측 범위: {pred_stacked.min():.2f} ~ {pred_stacked.max():.2f}\")\n",
    "\n",
    "# 첫 10개 예측값 비교\n",
    "comparison_df = pd.DataFrame({\n",
    "    'ID': test_ids.head(10),\n",
    "    'Weighted': pred_weighted[:10],\n",
    "    'Stacked': pred_stacked[:10]\n",
    "})\n",
    "\n",
    "print(\"\\n=== 첫 10개 예측값 비교 ===\")\n",
    "print(comparison_df)"
   ]
  },
  {
   "cell_type": "code",
   "execution_count": null,
   "metadata": {},
   "outputs": [],
   "source": []
  },
  {
   "cell_type": "markdown",
   "metadata": {},
   "source": []
  }
 ],
 "metadata": {
  "kernelspec": {
   "display_name": ".venv",
   "language": "python",
   "name": "python3"
  },
  "language_info": {
   "codemirror_mode": {
    "name": "ipython",
    "version": 3
   },
   "file_extension": ".py",
   "mimetype": "text/x-python",
   "name": "python",
   "nbconvert_exporter": "python",
   "pygments_lexer": "ipython3",
   "version": "3.13.5"
  }
 },
 "nbformat": 4,
 "nbformat_minor": 2
}
